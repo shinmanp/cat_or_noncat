{
 "cells": [
  {
   "cell_type": "code",
   "execution_count": 2,
   "metadata": {},
   "outputs": [],
   "source": [
    "import numpy as np\n",
    "import h5py\n",
    "import matplotlib.pyplot as plt"
   ]
  },
  {
   "cell_type": "code",
   "execution_count": 19,
   "metadata": {},
   "outputs": [],
   "source": [
    "def load_dataset():\n",
    "    # Load Train dataset\n",
    "    train_dataset = h5py.File('train_catvnoncat.h5', 'r')\n",
    "    # print(train_dataset.keys())\n",
    "    # Train features as a numpy aaray\n",
    "    X_train = np.array(train_dataset['train_set_x'][:])\n",
    "    # Train labels\n",
    "    Y_train = np.array(train_dataset['train_set_y'][:])\n",
    "    # Classes\n",
    "    classes = np.array(train_dataset['list_classes'][:])\n",
    "    \n",
    "    # Load Test dataset\n",
    "    test_dataset = h5py.File('test_catvnoncat.h5', 'r')\n",
    "    # print(test_dataset.keys())\n",
    "    # Test features\n",
    "    X_test = np.array(test_dataset['test_set_x'][:])\n",
    "    # Test labels\n",
    "    Y_test = np.array(test_dataset['test_set_y'][:])\n",
    "    \n",
    "    # Reshape labels to 1 row\n",
    "    Y_train = Y_train.reshape(1, Y_train.shape[0])\n",
    "    Y_test = Y_test.reshape(1, Y_test.shape[0])\n",
    "    \n",
    "    return X_train, Y_train, X_test, Y_test, classes    "
   ]
  },
  {
   "cell_type": "code",
   "execution_count": null,
   "metadata": {},
   "outputs": [],
   "source": [
    "def compute_cost_gradient(X, Y, w, b):\n",
    "    '''\n",
    "    Compute sigmoid function:\n",
    "        If we used hypothesis ((w.T)X+b) then the hypothesis can be\n",
    "        grater than 1 or less than 0.\n",
    "        To get value between 0 and 1 sigmoid function is used.\n",
    "    '''"
   ]
  },
  {
   "cell_type": "code",
   "execution_count": 24,
   "metadata": {},
   "outputs": [],
   "source": [
    "########### 1 LOAD DATA###########\n",
    "X_train, Y_train, X_test, Y_test, classes = load_dataset()\n",
    "\n",
    "m_train = X_train.shape[0] # Number of training examples\n",
    "m_test = X_test.shape[0] # Number of test examples\n",
    "num_px = X_train[1] # Width and height of an image\n",
    "\n",
    "########### 2 PREPROCESSING #############\n",
    "'''\n",
    "Reshape image :\n",
    "    The shape of a image is (num_px, num_px, 3).\n",
    "    num_px : width and height size\n",
    "    image store as a 3 matrix of R,G,B, so reshape it into one matrix.\n",
    "'''\n",
    "X_train = X_train.reshape(X_train.shape[0], -1).T\n",
    "X_test = X_test.reshape(X_test.shape[0], -1).T\n",
    "\n",
    "'''\n",
    "Standardize the data:\n",
    "    Since each pixel is size between 0-255, divide the data by 255\n",
    "'''\n",
    "X_train = X_train/255\n",
    "X_test = X_test/255\n",
    "\n",
    "########### 3 initialize parameters ############\n",
    "w = np.zeros(shape = [m_train,1])\n",
    "b = np.zeros(shape = [1])\n",
    "\n",
    "########### 4 Compute cost and gradient ##############\n",
    "cost, gradient = compute_cost_gradient(X_train, Y_train, w, b)\n"
   ]
  },
  {
   "cell_type": "code",
   "execution_count": null,
   "metadata": {},
   "outputs": [],
   "source": []
  },
  {
   "cell_type": "code",
   "execution_count": null,
   "metadata": {},
   "outputs": [],
   "source": []
  }
 ],
 "metadata": {
  "kernelspec": {
   "display_name": "Python 3",
   "language": "python",
   "name": "python3"
  },
  "language_info": {
   "codemirror_mode": {
    "name": "ipython",
    "version": 3
   },
   "file_extension": ".py",
   "mimetype": "text/x-python",
   "name": "python",
   "nbconvert_exporter": "python",
   "pygments_lexer": "ipython3",
   "version": "3.6.8"
  }
 },
 "nbformat": 4,
 "nbformat_minor": 2
}
